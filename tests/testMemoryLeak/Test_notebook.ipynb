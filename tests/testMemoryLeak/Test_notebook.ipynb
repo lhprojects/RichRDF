{
 "cells": [
  {
   "cell_type": "code",
   "execution_count": null,
   "id": "3daee5b0-79df-4d24-84b1-0e9c4894ef8f",
   "metadata": {
    "scrolled": true
   },
   "outputs": [],
   "source": [
    "import sys\n",
    "import os\n",
    "\n",
    "print(\"python path\", sys.executable)\n",
    "print(\"python version\", sys.version)\n",
    "\n",
    "richrdf_path = os.path.abspath(os.path.join(os.getcwd(), '../..'))\n",
    "sys.path.append(richrdf_path)\n",
    "\n",
    "import richrdf\n",
    "import richrdf.experimental\n",
    "\n",
    "try:\n",
    "    import ROOT\n",
    "except ImportError:\n",
    "    import richrdf.experimental.setupROOT\n",
    "    cvmfsversion=\"2024-10-03/x86_64-ubuntu22.04-gcc11.4.0-opt\"\n",
    "    print(f\"\\nNo ROOT can be imported, trying to set up ROOT from cvmfs {cvmfsversion}\\n\")\n",
    "    try:\n",
    "        richrdf.experimental.setupROOT.setupROOT(cvmfsversion=cvmfsversion)\n",
    "        import ROOT\n",
    "        print(\"\\nROOT from cvmfs loaded\\n\")\n",
    "    except ImportError:\n",
    "        print(\"\\nROOT not found, please set up ROOT\\n\")\n",
    "\n",
    "ROOT.gInterpreter.AddIncludePath(richrdf.get_include_path())\n",
    "\n",
    "print(richrdf.get_include_path())"
   ]
  },
  {
   "cell_type": "code",
   "execution_count": null,
   "id": "768b4d5c",
   "metadata": {},
   "outputs": [],
   "source": [
    "if not os.path.exists(\"zh_mumu_REC.edm4hep.root\"):\n",
    "    # Download the sample file\n",
    "    import urllib.request\n",
    "    url = \"https://raw.githubusercontent.com/lhprojects/edm4hep_sample/refs/heads/main/ILD/zh_mumu_REC.edm4hep.root\"\n",
    "    urllib.request.urlretrieve(url, \"zh_mumu_REC.edm4hep.root\")\n",
    "    \n",
    "filename = \"zh_mumu_REC.edm4hep.root\"\n",
    "\n",
    "\n"
   ]
  },
  {
   "cell_type": "code",
   "execution_count": null,
   "id": "fc501cd5",
   "metadata": {},
   "outputs": [],
   "source": [
    "ROOT.gInterpreter.Declare('''\n",
    "#include <rrdf.h>\n",
    "struct Ans1 { int mcp_size; };\n",
    "Ans1 analyzeEvent(rrdf::Event const &event) {\n",
    "    static int i = 0;\n",
    "    //rrdf::print(\"Event number: {}\", i++);\n",
    "    //fprintf(stderr, \"stderr Event number: %d\\\\n\", i);\n",
    "    Ans1 ans;\n",
    "    ans.mcp_size = event.getMCParticles(\"MCParticles\").size();\n",
    "    return ans;\n",
    "}''')"
   ]
  },
  {
   "cell_type": "code",
   "execution_count": null,
   "id": "c00c0ed2",
   "metadata": {},
   "outputs": [],
   "source": [
    "import sys\n",
    "\n",
    "arg = \"allcoll_evt\"\n",
    "if len(sys.argv) > 1:\n",
    "    arg = sys.argv[1]\n",
    "\n",
    "huge_file_name = \"/home/liangh/huge.edm4hep.root\"\n",
    "NRepeat=2\n",
    "\n",
    "if arg == \"allcoll_evt\":\n",
    "    df = richrdf.RichRDF(\"events\", [huge_file_name]*NRepeat)\n",
    "    df = df.ReadEvent(\"event\")\n",
    "    df = df.Define(\"a\", \"analyzeEvent(event).mcp_size\")\n",
    "    a = df.Sum(\"a\").GetValue()\n",
    "    print(\"a\", a)\n",
    "\n",
    "elif arg == \"allcoll_RDataFrame\":\n",
    "    df = ROOT.RDataFrame(\"events\", [huge_file_name]*NRepeat)\n",
    "    vector_branches = [b  for b in df.GetColumnNames() if \".\" not in b]\n",
    "\n",
    "    for b in vector_branches:\n",
    "        df = df.Define(f\"{b}_size\", f\"{b}.size()\")\n",
    "\n",
    "    size_columns = [f\"{b}_size\" for b in vector_branches]\n",
    "    sum_expr = \" + \".join(size_columns)\n",
    "    df = df.Define(\"total_size_sum\", sum_expr)\n",
    "\n",
    "    total_sum = df.Sum(\"total_size_sum\").GetValue()\n",
    "    print(\"Total size sum over all vector branches:\", total_sum)\n",
    "elif arg == \"mcrec_evt\":\n",
    "    df = richrdf.RichRDF(\"events\", [huge_file_name]*NRepeat)\n",
    "    df = df.ReadEvent(\"event\", [\"MCParticles\", \"PandoraPFOs\"])\n",
    "    df = df.Define(\"a\", \"analyzeEvent(event).mcp_size\")\n",
    "    a = df.Sum(\"a\").GetValue()\n",
    "    print(\"a\", a)\n",
    "\n",
    "elif arg == \"mcrec_RDataFrame\":\n",
    "    df = ROOT.RDataFrame(\"events\", [huge_file_name]*NRepeat)\n",
    "    df = df.Define(\"totalsize\", \"MCParticles.size() + PandoraPFOs.size()\")\n",
    "    mcp_size_sum = df.Sum(\"totalsize\")\n",
    "    print(\"mcp_size_sum\", mcp_size_sum.GetValue())\n",
    "\n"
   ]
  }
 ],
 "metadata": {
  "kernelspec": {
   "display_name": "anaedm",
   "language": "python",
   "name": "python3"
  },
  "language_info": {
   "codemirror_mode": {
    "name": "ipython",
    "version": 3
   },
   "file_extension": ".py",
   "mimetype": "text/x-python",
   "name": "python",
   "nbconvert_exporter": "python",
   "pygments_lexer": "ipython3",
   "version": "3.11.9"
  }
 },
 "nbformat": 4,
 "nbformat_minor": 5
}
