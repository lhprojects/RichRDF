{
 "cells": [
  {
   "cell_type": "code",
   "execution_count": 1,
   "id": "3daee5b0-79df-4d24-84b1-0e9c4894ef8f",
   "metadata": {
    "scrolled": true
   },
   "outputs": [
    {
     "name": "stdout",
     "output_type": "stream",
     "text": [
      "python path /home/llr/ilc/liang/data/liang/software/anaconda3/envs/anaedm/bin/python\n",
      "python version 3.11.9 | packaged by conda-forge | (main, Apr 19 2024, 18:36:13) [GCC 12.3.0]\n",
      "\n",
      "No ROOT can be imported, trying to set up ROOT from cvmfs 2024-10-03/x86_64-almalinux9-gcc14.2.0-opt\n",
      "\n",
      "CVMFS version 2024-10-03/x86_64-almalinux9-gcc14.2.0-opt\n",
      "LDDIR  ['/cvmfs/sw.hsf.org/key4hep/releases/2024-10-03/x86_64-almalinux9-gcc14.2.0-opt/root/6.32.04-vms5ij/lib', '/cvmfs/sw.hsf.org/key4hep/releases/2024-10-03/x86_64-almalinux9-gcc14.2.0-opt/edm4hep/0.99.1-zincmm/lib', '/cvmfs/sw.hsf.org/key4hep/releases/2024-10-03/x86_64-almalinux9-gcc14.2.0-opt/podio/1.1-ur2cnz/lib']\n",
      "ROOTDIR ['/cvmfs/sw.hsf.org/key4hep/releases/2024-10-03/x86_64-almalinux9-gcc14.2.0-opt/root/6.32.04-vms5ij/lib']\n",
      "Includes ['/cvmfs/sw.hsf.org/key4hep/releases/2024-10-03/x86_64-almalinux9-gcc14.2.0-opt/edm4hep/0.99.1-zincmm/include', '/cvmfs/sw.hsf.org/key4hep/releases/2024-10-03/x86_64-almalinux9-gcc14.2.0-opt/podio/1.1-ur2cnz/include']\n",
      "\n",
      "ROOT from cvmfs loaded\n",
      "\n",
      "/grid_mnt/vol_home/llr/ilc/liang/projects/RichRDF/richrdf/cpp_include\n"
     ]
    }
   ],
   "source": [
    "\n",
    "import sys\n",
    "import os\n",
    "\n",
    "print(\"python path\", sys.executable)\n",
    "print(\"python version\", sys.version)\n",
    "\n",
    "richrdf_path = os.path.abspath(os.path.join(os.getcwd(), '../..'))\n",
    "sys.path.append(richrdf_path)\n",
    "\n",
    "try:\n",
    "    import ROOT\n",
    "except ImportError:\n",
    "    import richrdf.experimental.setupROOT\n",
    "    cvmfsversion=\"2024-10-03/x86_64-almalinux9-gcc14.2.0-opt\"\n",
    "    print(f\"\\nNo ROOT can be imported, trying to set up ROOT from cvmfs {cvmfsversion}\\n\")\n",
    "    try:\n",
    "        import richrdf.experimental\n",
    "        richrdf.experimental.setupROOT.setupROOT(cvmfsversion=cvmfsversion)\n",
    "        import ROOT\n",
    "        print(\"\\nROOT from cvmfs loaded\\n\")\n",
    "    except ImportError:\n",
    "        print(\"\\nROOT not found, please set up ROOT\\n\")\n",
    "\n",
    "import richrdf\n",
    "print(richrdf.get_include_path())\n",
    "\n"
   ]
  },
  {
   "cell_type": "code",
   "execution_count": 2,
   "id": "768b4d5c",
   "metadata": {},
   "outputs": [],
   "source": [
    "if not os.path.exists(\"zh_mumu_REC.edm4hep.root\"):\n",
    "    # Download the sample file\n",
    "    import urllib.request\n",
    "    url = \"https://raw.githubusercontent.com/lhprojects/edm4hep_sample/refs/heads/main/ILD/zh_mumu_REC.edm4hep.root\"\n",
    "    urllib.request.urlretrieve(url, \"zh_mumu_REC.edm4hep.root\")\n",
    "    \n"
   ]
  },
  {
   "cell_type": "code",
   "execution_count": 3,
   "id": "ca30f8cd",
   "metadata": {},
   "outputs": [
    {
     "data": {
      "text/plain": [
       "True"
      ]
     },
     "execution_count": 3,
     "metadata": {},
     "output_type": "execute_result"
    }
   ],
   "source": [
    "import richrdf\n",
    "ROOT.gInterpreter.AddIncludePath(richrdf.get_include_path())\n",
    "ROOT.gInterpreter.Declare('#include \"analyzeEvent.cpp\"')"
   ]
  },
  {
   "cell_type": "code",
   "execution_count": 4,
   "id": "c00c0ed2",
   "metadata": {},
   "outputs": [
    {
     "name": "stdout",
     "output_type": "stream",
     "text": [
      "Braching ratios 0.967741935483871\n"
     ]
    }
   ],
   "source": [
    "filename = \"zh_mumu_REC.edm4hep.root\"\n",
    "df = richrdf.RichRDF(\"events\", filename)\n",
    "df = df.ReadEvent(\"event\", [\"MCParticles\", \"PandoraPFOs\"], throwExceptionOnRefCollIDNotFound=False)\n",
    "df = df.Define(\"ans\", \"analyzeEvent(event)\")\n",
    "df = df.Define(\"pi0_n\", \"ans.pi0_E.size()\")\n",
    "df = df.Define(\"photon_n\", \"ans.ph_E1.size()\")\n",
    "\n",
    "\n",
    "ph_sum = df.Sum(\"photon_n\")\n",
    "pi0_sum = df.Sum(\"pi0_n\")\n",
    "        \n",
    "ratio = ph_sum.GetValue()/pi0_sum.GetValue()\n",
    "print(\"Braching ratios\", ratio)"
   ]
  }
 ],
 "metadata": {
  "kernelspec": {
   "display_name": "anaedm",
   "language": "python",
   "name": "python3"
  },
  "language_info": {
   "codemirror_mode": {
    "name": "ipython",
    "version": 3
   },
   "file_extension": ".py",
   "mimetype": "text/x-python",
   "name": "python",
   "nbconvert_exporter": "python",
   "pygments_lexer": "ipython3",
   "version": "3.11.9"
  }
 },
 "nbformat": 4,
 "nbformat_minor": 5
}
