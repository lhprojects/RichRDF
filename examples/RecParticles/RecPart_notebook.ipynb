{
 "cells": [
  {
   "cell_type": "code",
   "execution_count": 1,
   "id": "3daee5b0-79df-4d24-84b1-0e9c4894ef8f",
   "metadata": {
    "scrolled": true
   },
   "outputs": [
    {
     "name": "stdout",
     "output_type": "stream",
     "text": [
      "python path /home/llr/ilc/liang/data/liang/software/anaconda3/envs/anaedm/bin/python\n",
      "python version 3.11.9 | packaged by conda-forge | (main, Apr 19 2024, 18:36:13) [GCC 12.3.0]\n",
      "\n",
      "No ROOT can be imported, trying to set up ROOT from cvmfs 2024-10-03/x86_64-almalinux9-gcc14.2.0-opt\n",
      "\n",
      "CVMFS version 2024-10-03/x86_64-almalinux9-gcc14.2.0-opt\n",
      "LDDIR  ['/cvmfs/sw.hsf.org/key4hep/releases/2024-10-03/x86_64-almalinux9-gcc14.2.0-opt/root/6.32.04-vms5ij/lib', '/cvmfs/sw.hsf.org/key4hep/releases/2024-10-03/x86_64-almalinux9-gcc14.2.0-opt/edm4hep/0.99.1-zincmm/lib', '/cvmfs/sw.hsf.org/key4hep/releases/2024-10-03/x86_64-almalinux9-gcc14.2.0-opt/podio/1.1-ur2cnz/lib']\n",
      "ROOTDIR ['/cvmfs/sw.hsf.org/key4hep/releases/2024-10-03/x86_64-almalinux9-gcc14.2.0-opt/root/6.32.04-vms5ij/lib']\n",
      "Includes ['/cvmfs/sw.hsf.org/key4hep/releases/2024-10-03/x86_64-almalinux9-gcc14.2.0-opt/edm4hep/0.99.1-zincmm/include', '/cvmfs/sw.hsf.org/key4hep/releases/2024-10-03/x86_64-almalinux9-gcc14.2.0-opt/podio/1.1-ur2cnz/include']\n",
      "\n",
      "ROOT from cvmfs loaded\n",
      "\n",
      "/grid_mnt/vol_home/llr/ilc/liang/projects/RichRDF/richrdf/cpp_include\n"
     ]
    }
   ],
   "source": [
    "\n",
    "import sys\n",
    "import os\n",
    "\n",
    "print(\"python path\", sys.executable)\n",
    "print(\"python version\", sys.version)\n",
    "\n",
    "richrdf_path = os.path.abspath(os.path.join(os.getcwd(), '../..'))\n",
    "sys.path.append(richrdf_path)\n",
    "\n",
    "try:\n",
    "    import ROOT\n",
    "except ImportError:\n",
    "    import richrdf.experimental.setupROOT\n",
    "    cvmfsversion=\"2024-10-03/x86_64-almalinux9-gcc14.2.0-opt\"\n",
    "    print(f\"\\nNo ROOT can be imported, trying to set up ROOT from cvmfs {cvmfsversion}\\n\")\n",
    "    try:\n",
    "        import richrdf.experimental\n",
    "        richrdf.experimental.setupROOT.setupROOT(cvmfsversion=cvmfsversion)\n",
    "        import ROOT\n",
    "        print(\"\\nROOT from cvmfs loaded\\n\")\n",
    "    except ImportError:\n",
    "        print(\"\\nROOT not found, please set up ROOT\\n\")\n",
    "\n",
    "import richrdf\n",
    "print(richrdf.get_include_path())\n",
    "\n"
   ]
  },
  {
   "cell_type": "code",
   "execution_count": 2,
   "id": "768b4d5c",
   "metadata": {},
   "outputs": [],
   "source": [
    "if not os.path.exists(\"zh_mumu_REC.edm4hep.root\"):\n",
    "    # Download the sample file\n",
    "    import urllib.request\n",
    "    url = \"https://raw.githubusercontent.com/lhprojects/edm4hep_sample/refs/heads/main/ILD/zh_mumu_REC.edm4hep.root\"\n",
    "    urllib.request.urlretrieve(url, \"zh_mumu_REC.edm4hep.root\")\n",
    "    \n"
   ]
  },
  {
   "cell_type": "code",
   "execution_count": 3,
   "id": "5d2da73a",
   "metadata": {},
   "outputs": [
    {
     "data": {
      "text/plain": [
       "True"
      ]
     },
     "execution_count": 3,
     "metadata": {},
     "output_type": "execute_result"
    }
   ],
   "source": [
    "import richrdf\n",
    "ROOT.gInterpreter.AddIncludePath(richrdf.get_include_path())\n",
    "ROOT.gInterpreter.Declare('''\n",
    "#include <rrdf.h>\n",
    "struct Ans1\n",
    "{\n",
    "    ROOT::VecOps::RVec<double> ph_E;\n",
    "};\n",
    "\n",
    "Ans1 analyzeEvent(rrdf::Event const &evt)\n",
    "{\n",
    "    Ans1 ans1;\n",
    "    auto recs = evt.getReconstructedParticles(\"PandoraPFOs\");\n",
    "\n",
    "    for(int i : rrdf::range(recs.size())) {\n",
    "        auto rec = recs[i];        \n",
    "        if(rec.getType() == rrdf::PID::gamma) {\n",
    "            ans1.ph_E.push_back(rec.getEnergy());\n",
    "        }\n",
    "    }\n",
    "    return ans1;\n",
    "}\n",
    "''')\n"
   ]
  },
  {
   "cell_type": "code",
   "execution_count": 4,
   "id": "c00c0ed2",
   "metadata": {},
   "outputs": [
    {
     "name": "stdout",
     "output_type": "stream",
     "text": [
      "Not found relationship IDs { 1919347268, 2512145315, 450524680 }\n"
     ]
    }
   ],
   "source": [
    "import richrdf\n",
    "filename = \"zh_mumu_REC.edm4hep.root\"\n",
    "df = richrdf.RichRDF(\"events\", filename)\n",
    "df = df.ReadEvent(\"event\", [\"PandoraPFOs\"])\n",
    "#df = df.ReadEvent(\"event\")\n",
    "\n",
    "df = df.Define(\"ans\", \"analyzeEvent(event)\")\n",
    "df = df.Define(\"ph_E\", \"ans.ph_E\")\n",
    "df = df.Define(\"notfIDS\", \"event.getNotFoundIDs()\")\n",
    "\n",
    "ph_E_H1D = df.Histo1D((\"ph_E\", \"ph_E\", 100, 0, 10), \"ph_E\") \n",
    "dfa = df.AsNumpy_([\"notfIDS\", \"ph_E\"]).GetValue()\n",
    "\n",
    "print(\"Not found relationship IDs\", dfa.notfIDS[0])"
   ]
  },
  {
   "cell_type": "code",
   "execution_count": 5,
   "id": "1cca4dc8",
   "metadata": {},
   "outputs": [
    {
     "data": {
      "image/png": "[encoded data removed]",
      "text/plain": [
       "<Figure size 500x500 with 1 Axes>"
      ]
     },
     "metadata": {},
     "output_type": "display_data"
    },
    {
     "data": {
      "image/png": "[encoded data removed]",
      "text/plain": [
       "<IPython.core.display.Image object>"
      ]
     },
     "metadata": {},
     "output_type": "display_data"
    }
   ],
   "source": [
    "import matplotlib.pyplot as plt\n",
    "import numpy as np\n",
    "from ROOT import TCanvas\n",
    "\n",
    "\n",
    "c = TCanvas(\"c\",\"Photon Energy\", 600, 600)\n",
    "ph_E_H1D.GetValue().DrawClone()\n",
    "c.Draw()\n",
    "\n",
    "dfa.ph_E_ = np.concatenate(dfa.ph_E)\n",
    "plt.figure(figsize=(5, 5))\n",
    "plt.hist(dfa.ph_E, bins=100, range=(0, 10))\n",
    "plt.xlabel(\"Photon Energy (GeV)\")\n",
    "plt.ylabel(\"Counts\")\n",
    "plt.show()\n",
    "\n",
    "\n"
   ]
  }
 ],
 "metadata": {
  "kernelspec": {
   "display_name": "anaedm",
   "language": "python",
   "name": "python3"
  },
  "language_info": {
   "codemirror_mode": {
    "name": "ipython",
    "version": 3
   },
   "file_extension": ".py",
   "mimetype": "text/x-python",
   "name": "python",
   "nbconvert_exporter": "python",
   "pygments_lexer": "ipython3",
   "version": "3.11.9"
  }
 },
 "nbformat": 4,
 "nbformat_minor": 5
}
